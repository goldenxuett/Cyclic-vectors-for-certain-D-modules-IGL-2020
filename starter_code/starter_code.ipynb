{
 "cells": [
  {
   "cell_type": "code",
   "execution_count": 3,
   "metadata": {},
   "outputs": [
    {
     "name": "stdout",
     "output_type": "stream",
     "text": [
      "2/(x12*x13^2*x23^3) + 2/(x12^2*x13*x23^3) + 2/(x12*x13^3*x23^2) - 2/(x12^3*x13*x23^2) - 2/(x12^2*x13^3*x23) - 2/(x12^3*x13^2*x23)\n",
      "2*x12^2*x13 + 2*x12*x13^2 + 2*x12^2*x23 - 2*x13^2*x23 - 2*x12*x23^2 - 2*x13*x23^2\n",
      "x12^3*x13^3*x23^3\n"
     ]
    }
   ],
   "source": [
    "# f^-1(P) = f^-2\\n\n",
    "# Using example problem where xij = xi - xj\n",
    "\n",
    "var('x1, x2, x3, x12, x13, x23')\n",
    "f = (x1 - x2)*(x1 - x3)*(x2 - x3)\n",
    "eq = diff(f^(-1), x1)\n",
    "# eq = eq.subs({(x1-x2):x12}, {(x1-x3):x13}, {(x2-x3):x23})\\n\",\n",
    "eq = diff(eq, x2)\n",
    "eq = diff(eq, x3)\n",
    "eq = eq.subs({(x1-x2):x12}, {(x1-x3):x13}, {(x2-x3):x23})\n",
    "print(eq)\n",
    "print(eq.numerator())\n",
    "print(eq.denominator())"
   ]
  },
  {
   "cell_type": "code",
   "execution_count": null,
   "metadata": {},
   "outputs": [],
   "source": []
  }
 ],
 "metadata": {
  "kernelspec": {
   "display_name": "SageMath 9.0",
   "language": "sage",
   "name": "sagemath"
  },
  "language_info": {
   "codemirror_mode": {
    "name": "ipython",
    "version": 3
   },
   "file_extension": ".py",
   "mimetype": "text/x-python",
   "name": "python",
   "nbconvert_exporter": "python",
   "pygments_lexer": "ipython3",
   "version": "3.7.3"
  }
 },
 "nbformat": 4,
 "nbformat_minor": 2
}
