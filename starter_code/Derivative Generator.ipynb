{
 "cells": [
  {
   "cell_type": "code",
   "execution_count": 1,
   "metadata": {},
   "outputs": [],
   "source": [
    "# R.<x1,x2,x3> = QQ[] # Should Probably be CC for Complex\n",
    "# W = DifferentialWeylAlgebra(R)\n",
    "# W.inject_variables()\n",
    "# f = ((x1 - x2)*(x1 - x3)*(x2 - x3))\n",
    "# g = 1\n",
    "# W.polynomial_ring()\n",
    "# var('x4')\n",
    "# Y=W*(x1)\n",
    "# # X = CombinatorialFreeModule(W, ['x1','x2','x3'])\n",
    "# # print(X)"
   ]
  },
  {
   "cell_type": "code",
   "execution_count": 20,
   "metadata": {},
   "outputs": [
    {
     "name": "stdout",
     "output_type": "stream",
     "text": [
      "-4 \\, x_{12}^{3} x_{13} - 4 \\, x_{12}^{2} x_{13}^{2} - 4 \\, x_{12} x_{13}^{3} - 6 \\, x_{12}^{3} x_{23} - 2 \\, x_{12}^{2} x_{13} x_{23} + 2 \\, x_{12} x_{13}^{2} x_{23} + 6 \\, x_{13}^{3} x_{23} + 6 \\, x_{12}^{2} x_{23}^{2} + 8 \\, x_{12} x_{13} x_{23}^{2} + 6 \\, x_{13}^{2} x_{23}^{2}\n",
      "\n",
      "x_{12}^{4} x_{13}^{4} x_{23}^{3}\n"
     ]
    }
   ],
   "source": [
    "# f^-1(P) = f^-2\\n\n",
    "# Using example problem where xij = xi - xj\n",
    "def generator(function, derivatives, variables):\n",
    "    eq = function\n",
    "    for i in range(len(derivatives)):\n",
    "        eq = diff(eq, variables[derivatives[i]])\n",
    "    eq = eq.subs({(x1-x2):x12}, {(x1-x3):x13}, {(x2-x3):x23})\n",
    "    return eq;\n",
    "\n",
    "\n",
    "var('x1, x2, x3, x12, x13, x23')\n",
    "variables = [x1, x2, x3]\n",
    "f = (x1 - x2)*(x1 - x3)*(x2 - x3)\n",
    "\n",
    "derivatives = [0, 1, 2, 0]\n",
    "\n",
    "eq = generator(f^(-1), derivatives, variables)\n",
    "\n",
    "# print(eq.numerator())\n",
    "# print(eq.denominator())\n",
    "# print(latex(eq.numerator()))\n",
    "# print(\"\")\n",
    "# print(latex(eq.denominator()))\n"
   ]
  },
  {
   "cell_type": "code",
   "execution_count": null,
   "metadata": {},
   "outputs": [],
   "source": []
  }
 ],
 "metadata": {
  "kernelspec": {
   "display_name": "SageMath 9.0",
   "language": "sage",
   "name": "sagemath"
  },
  "language_info": {
   "codemirror_mode": {
    "name": "ipython",
    "version": 3
   },
   "file_extension": ".py",
   "mimetype": "text/x-python",
   "name": "python",
   "nbconvert_exporter": "python",
   "pygments_lexer": "ipython3",
   "version": "3.7.3"
  }
 },
 "nbformat": 4,
 "nbformat_minor": 2
}
