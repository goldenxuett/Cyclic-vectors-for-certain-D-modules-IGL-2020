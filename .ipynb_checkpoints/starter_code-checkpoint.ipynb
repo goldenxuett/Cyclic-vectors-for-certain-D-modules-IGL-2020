{
 "cells": [
  {
   "cell_type": "code",
   "execution_count": 2,
   "metadata": {},
   "outputs": [
    {
     "ename": "SyntaxError",
     "evalue": "EOL while scanning string literal (<ipython-input-2-04aceb59e3f3>, line 6)",
     "output_type": "error",
     "traceback": [
      "\u001b[0;36m  File \u001b[0;32m\"<ipython-input-2-04aceb59e3f3>\"\u001b[0;36m, line \u001b[0;32m6\u001b[0m\n\u001b[0;31m    eq = diff(f**(-Integer(1)), x1) * BackslashOperator() * n\",\u001b[0m\n\u001b[0m                                                               ^\u001b[0m\n\u001b[0;31mSyntaxError\u001b[0m\u001b[0;31m:\u001b[0m EOL while scanning string literal\n"
     ]
    }
   ],
   "source": [
    "# f^-1(P) = f^-2\\n\n",
    "# Using example problem where xij = xi - xj\n",
    "\n",
    "var('x1, x2, x3, x12, x13, x23')\n",
    "f = (x1 - x2)*(x1 - x3)*(x2 - x3)\n",
    "eq = diff(f^(-1), x1)\n",
    "# eq = eq.subs({(x1-x2):x12}, {(x1-x3):x13}, {(x2-x3):x23})\\n\",\n",
    "eq = diff(eq, x2)\n",
    "eq = diff(eq, x3)\n",
    "eq = eq.subs({(x1-x2):x12}, {(x1-x3):x13}, {(x2-x3):x23})\n",
    "print(eq)\n",
    "print(eq.numerator())\n",
    "print(eq.denominator())"
   ]
  },
  {
   "cell_type": "code",
   "execution_count": null,
   "metadata": {},
   "outputs": [],
   "source": []
  }
 ],
 "metadata": {
  "kernelspec": {
   "display_name": "SageMath 9.0",
   "language": "sage",
   "name": "sagemath"
  },
  "language_info": {
   "codemirror_mode": {
    "name": "ipython",
    "version": 3
   },
   "file_extension": ".py",
   "mimetype": "text/x-python",
   "name": "python",
   "nbconvert_exporter": "python",
   "pygments_lexer": "ipython3",
   "version": "3.7.3"
  }
 },
 "nbformat": 4,
 "nbformat_minor": 2
}
